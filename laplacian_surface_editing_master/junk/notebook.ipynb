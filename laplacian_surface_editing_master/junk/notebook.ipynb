{
 "cells": [
  {
   "cell_type": "code",
   "execution_count": 1,
   "metadata": {},
   "outputs": [],
   "source": [
    "import numpy as np\n",
    "import networkx as nx\n",
    "import trimesh\n",
    "from utils import *\n",
    "import scipy.sparse"
   ]
  },
  {
   "cell_type": "markdown",
   "metadata": {},
   "source": [
    "## Load Mesh"
   ]
  },
  {
   "cell_type": "code",
   "execution_count": 2,
   "metadata": {},
   "outputs": [],
   "source": [
    "mesh = trimesh.load('./meshes/bunny.ply', process=False)"
   ]
  },
  {
   "cell_type": "code",
   "execution_count": 3,
   "metadata": {},
   "outputs": [],
   "source": [
    "g = mesh_to_graph(mesh)"
   ]
  },
  {
   "cell_type": "code",
   "execution_count": 4,
   "metadata": {},
   "outputs": [],
   "source": [
    "handles = {\n",
    "    24092 : [-0.01134  ,  0.161374 , -0.0242688]\n",
    "}\n",
    "boundary_ctrl_points = [15617, 24120, 30216, 11236, 6973]"
   ]
  },
  {
   "cell_type": "code",
   "execution_count": 5,
   "metadata": {},
   "outputs": [],
   "source": [
    "boundary = get_boundary(g, boundary_ctrl_points)\n",
    "editable_verts = get_editable_vertices(g, boundary, list(handles.keys())[0])"
   ]
  },
  {
   "cell_type": "code",
   "execution_count": 6,
   "metadata": {},
   "outputs": [
    {
     "ename": "ValueError",
     "evalue": "assignment destination is read-only",
     "output_type": "error",
     "traceback": [
      "\u001b[1;31m---------------------------------------------------------------------------\u001b[0m",
      "\u001b[1;31mValueError\u001b[0m                                Traceback (most recent call last)",
      "Cell \u001b[1;32mIn [6], line 1\u001b[0m\n\u001b[1;32m----> 1\u001b[0m \u001b[43mget_mesh_scene\u001b[49m\u001b[43m(\u001b[49m\u001b[43mmesh\u001b[49m\u001b[43m,\u001b[49m\u001b[43m \u001b[49m\u001b[43mboundary\u001b[49m\u001b[43m,\u001b[49m\u001b[43m \u001b[49m\u001b[43meditable_verts\u001b[49m\u001b[43m)\u001b[49m\u001b[38;5;241;43m.\u001b[39;49m\u001b[43mshow\u001b[49m\u001b[43m(\u001b[49m\u001b[43mviewer\u001b[49m\u001b[38;5;241;43m=\u001b[39;49m\u001b[38;5;124;43m'\u001b[39;49m\u001b[38;5;124;43mgl\u001b[39;49m\u001b[38;5;124;43m'\u001b[39;49m\u001b[43m,\u001b[49m\u001b[43msmooth\u001b[49m\u001b[38;5;241;43m=\u001b[39;49m\u001b[38;5;28;43;01mFalse\u001b[39;49;00m\u001b[43m)\u001b[49m \n",
      "File \u001b[1;32m~\\anaconda3\\envs\\Laplac2\\lib\\site-packages\\trimesh\\scene\\scene.py:1162\u001b[0m, in \u001b[0;36mScene.show\u001b[1;34m(self, viewer, **kwargs)\u001b[0m\n\u001b[0;32m   1158\u001b[0m \u001b[38;5;28;01mif\u001b[39;00m viewer \u001b[38;5;241m==\u001b[39m \u001b[38;5;124m'\u001b[39m\u001b[38;5;124mgl\u001b[39m\u001b[38;5;124m'\u001b[39m:\n\u001b[0;32m   1159\u001b[0m     \u001b[38;5;66;03m# this imports pyglet, and will raise an ImportError\u001b[39;00m\n\u001b[0;32m   1160\u001b[0m     \u001b[38;5;66;03m# if pyglet is not available\u001b[39;00m\n\u001b[0;32m   1161\u001b[0m     \u001b[38;5;28;01mfrom\u001b[39;00m \u001b[38;5;21;01m.\u001b[39;00m\u001b[38;5;21;01m.\u001b[39;00m\u001b[38;5;21;01mviewer\u001b[39;00m \u001b[38;5;28;01mimport\u001b[39;00m SceneViewer\n\u001b[1;32m-> 1162\u001b[0m     \u001b[38;5;28;01mreturn\u001b[39;00m \u001b[43mSceneViewer\u001b[49m\u001b[43m(\u001b[49m\u001b[38;5;28;43mself\u001b[39;49m\u001b[43m,\u001b[49m\u001b[43m \u001b[49m\u001b[38;5;241;43m*\u001b[39;49m\u001b[38;5;241;43m*\u001b[39;49m\u001b[43mkwargs\u001b[49m\u001b[43m)\u001b[49m\n\u001b[0;32m   1163\u001b[0m \u001b[38;5;28;01melif\u001b[39;00m viewer \u001b[38;5;241m==\u001b[39m \u001b[38;5;124m'\u001b[39m\u001b[38;5;124mnotebook\u001b[39m\u001b[38;5;124m'\u001b[39m:\n\u001b[0;32m   1164\u001b[0m     \u001b[38;5;28;01mfrom\u001b[39;00m \u001b[38;5;21;01m.\u001b[39;00m\u001b[38;5;21;01m.\u001b[39;00m\u001b[38;5;21;01mviewer\u001b[39;00m \u001b[38;5;28;01mimport\u001b[39;00m scene_to_notebook\n",
      "File \u001b[1;32m~\\anaconda3\\envs\\Laplac2\\lib\\site-packages\\trimesh\\viewer\\windowed.py:219\u001b[0m, in \u001b[0;36mSceneViewer.__init__\u001b[1;34m(self, scene, smooth, flags, visible, resolution, start_loop, callback, callback_period, caption, fixed, offset_lines, line_settings, background, window_conf, profile, record, **kwargs)\u001b[0m\n\u001b[0;32m    216\u001b[0m     pyglet\u001b[38;5;241m.\u001b[39mclock\u001b[38;5;241m.\u001b[39mschedule_interval(\u001b[38;5;28;01mlambda\u001b[39;00m x: x,\n\u001b[0;32m    217\u001b[0m                                    callback_period)\n\u001b[0;32m    218\u001b[0m \u001b[38;5;28;01mif\u001b[39;00m start_loop:\n\u001b[1;32m--> 219\u001b[0m     \u001b[43mpyglet\u001b[49m\u001b[38;5;241;43m.\u001b[39;49m\u001b[43mapp\u001b[49m\u001b[38;5;241;43m.\u001b[39;49m\u001b[43mrun\u001b[49m\u001b[43m(\u001b[49m\u001b[43m)\u001b[49m\n",
      "File \u001b[1;32m~\\anaconda3\\envs\\Laplac2\\lib\\site-packages\\pyglet\\app\\__init__.py:107\u001b[0m, in \u001b[0;36mrun\u001b[1;34m()\u001b[0m\n\u001b[0;32m     99\u001b[0m \u001b[38;5;28;01mdef\u001b[39;00m \u001b[38;5;21mrun\u001b[39m():\n\u001b[0;32m    100\u001b[0m     \u001b[38;5;124;03m\"\"\"Begin processing events, scheduled functions and window updates.\u001b[39;00m\n\u001b[0;32m    101\u001b[0m \n\u001b[0;32m    102\u001b[0m \u001b[38;5;124;03m    This is a convenience function, equivalent to::\u001b[39;00m\n\u001b[1;32m   (...)\u001b[0m\n\u001b[0;32m    105\u001b[0m \n\u001b[0;32m    106\u001b[0m \u001b[38;5;124;03m    \"\"\"\u001b[39;00m\n\u001b[1;32m--> 107\u001b[0m     \u001b[43mevent_loop\u001b[49m\u001b[38;5;241;43m.\u001b[39;49m\u001b[43mrun\u001b[49m\u001b[43m(\u001b[49m\u001b[43m)\u001b[49m\n",
      "File \u001b[1;32m~\\anaconda3\\envs\\Laplac2\\lib\\site-packages\\pyglet\\app\\base.py:161\u001b[0m, in \u001b[0;36mEventLoop.run\u001b[1;34m(self)\u001b[0m\n\u001b[0;32m    153\u001b[0m \u001b[38;5;124;03m\"\"\"Begin processing events, scheduled functions and window updates.\u001b[39;00m\n\u001b[0;32m    154\u001b[0m \n\u001b[0;32m    155\u001b[0m \u001b[38;5;124;03mThis method returns when :py:attr:`has_exit` is set to True.\u001b[39;00m\n\u001b[1;32m   (...)\u001b[0m\n\u001b[0;32m    158\u001b[0m \u001b[38;5;124;03mimplementation is platform-specific.\u001b[39;00m\n\u001b[0;32m    159\u001b[0m \u001b[38;5;124;03m\"\"\"\u001b[39;00m\n\u001b[0;32m    160\u001b[0m \u001b[38;5;28mself\u001b[39m\u001b[38;5;241m.\u001b[39mhas_exit \u001b[38;5;241m=\u001b[39m \u001b[38;5;28;01mFalse\u001b[39;00m\n\u001b[1;32m--> 161\u001b[0m \u001b[38;5;28;43mself\u001b[39;49m\u001b[38;5;241;43m.\u001b[39;49m\u001b[43m_legacy_setup\u001b[49m\u001b[43m(\u001b[49m\u001b[43m)\u001b[49m\n\u001b[0;32m    163\u001b[0m platform_event_loop \u001b[38;5;241m=\u001b[39m app\u001b[38;5;241m.\u001b[39mplatform_event_loop\n\u001b[0;32m    164\u001b[0m platform_event_loop\u001b[38;5;241m.\u001b[39mstart()\n",
      "File \u001b[1;32m~\\anaconda3\\envs\\Laplac2\\lib\\site-packages\\pyglet\\app\\base.py:184\u001b[0m, in \u001b[0;36mEventLoop._legacy_setup\u001b[1;34m(self)\u001b[0m\n\u001b[0;32m    182\u001b[0m \u001b[38;5;28;01mfor\u001b[39;00m window \u001b[38;5;129;01min\u001b[39;00m app\u001b[38;5;241m.\u001b[39mwindows:\n\u001b[0;32m    183\u001b[0m     window\u001b[38;5;241m.\u001b[39mswitch_to()\n\u001b[1;32m--> 184\u001b[0m     \u001b[43mwindow\u001b[49m\u001b[38;5;241;43m.\u001b[39;49m\u001b[43mdispatch_pending_events\u001b[49m\u001b[43m(\u001b[49m\u001b[43m)\u001b[49m\n",
      "File \u001b[1;32m~\\anaconda3\\envs\\Laplac2\\lib\\site-packages\\pyglet\\window\\win32\\__init__.py:732\u001b[0m, in \u001b[0;36mWin32Window.dispatch_pending_events\u001b[1;34m(self)\u001b[0m\n\u001b[0;32m    729\u001b[0m event \u001b[38;5;241m=\u001b[39m \u001b[38;5;28mself\u001b[39m\u001b[38;5;241m.\u001b[39m_event_queue\u001b[38;5;241m.\u001b[39mpop(\u001b[38;5;241m0\u001b[39m)\n\u001b[0;32m    730\u001b[0m \u001b[38;5;28;01mif\u001b[39;00m \u001b[38;5;28mtype\u001b[39m(event[\u001b[38;5;241m0\u001b[39m]) \u001b[38;5;129;01mis\u001b[39;00m \u001b[38;5;28mstr\u001b[39m:\n\u001b[0;32m    731\u001b[0m     \u001b[38;5;66;03m# pyglet event\u001b[39;00m\n\u001b[1;32m--> 732\u001b[0m     \u001b[43mEventDispatcher\u001b[49m\u001b[38;5;241;43m.\u001b[39;49m\u001b[43mdispatch_event\u001b[49m\u001b[43m(\u001b[49m\u001b[38;5;28;43mself\u001b[39;49m\u001b[43m,\u001b[49m\u001b[43m \u001b[49m\u001b[38;5;241;43m*\u001b[39;49m\u001b[43mevent\u001b[49m\u001b[43m)\u001b[49m\n\u001b[0;32m    733\u001b[0m \u001b[38;5;28;01melse\u001b[39;00m:\n\u001b[0;32m    734\u001b[0m     \u001b[38;5;66;03m# win32 event\u001b[39;00m\n\u001b[0;32m    735\u001b[0m     event[\u001b[38;5;241m0\u001b[39m](\u001b[38;5;241m*\u001b[39mevent[\u001b[38;5;241m1\u001b[39m:])\n",
      "File \u001b[1;32m~\\anaconda3\\envs\\Laplac2\\lib\\site-packages\\pyglet\\event.py:415\u001b[0m, in \u001b[0;36mEventDispatcher.dispatch_event\u001b[1;34m(self, event_type, *args)\u001b[0m\n\u001b[0;32m    413\u001b[0m \u001b[38;5;66;03m# Check instance for an event handler\u001b[39;00m\n\u001b[0;32m    414\u001b[0m \u001b[38;5;28;01mtry\u001b[39;00m:\n\u001b[1;32m--> 415\u001b[0m     \u001b[38;5;28;01mif\u001b[39;00m \u001b[38;5;28;43mgetattr\u001b[39;49m\u001b[43m(\u001b[49m\u001b[38;5;28;43mself\u001b[39;49m\u001b[43m,\u001b[49m\u001b[43m \u001b[49m\u001b[43mevent_type\u001b[49m\u001b[43m)\u001b[49m\u001b[43m(\u001b[49m\u001b[38;5;241;43m*\u001b[39;49m\u001b[43margs\u001b[49m\u001b[43m)\u001b[49m:\n\u001b[0;32m    416\u001b[0m         \u001b[38;5;28;01mreturn\u001b[39;00m EVENT_HANDLED\n\u001b[0;32m    417\u001b[0m \u001b[38;5;28;01mexcept\u001b[39;00m \u001b[38;5;167;01mAttributeError\u001b[39;00m \u001b[38;5;28;01mas\u001b[39;00m e:\n",
      "File \u001b[1;32m~\\anaconda3\\envs\\Laplac2\\lib\\site-packages\\trimesh\\viewer\\windowed.py:619\u001b[0m, in \u001b[0;36mSceneViewer.on_resize\u001b[1;34m(self, width, height)\u001b[0m\n\u001b[0;32m    617\u001b[0m \u001b[38;5;28mself\u001b[39m\u001b[38;5;241m.\u001b[39mscene\u001b[38;5;241m.\u001b[39mcamera\u001b[38;5;241m.\u001b[39mresolution \u001b[38;5;241m=\u001b[39m (width, height)\n\u001b[0;32m    618\u001b[0m \u001b[38;5;28mself\u001b[39m\u001b[38;5;241m.\u001b[39mview[\u001b[38;5;124m'\u001b[39m\u001b[38;5;124mball\u001b[39m\u001b[38;5;124m'\u001b[39m]\u001b[38;5;241m.\u001b[39mresize(\u001b[38;5;28mself\u001b[39m\u001b[38;5;241m.\u001b[39mscene\u001b[38;5;241m.\u001b[39mcamera\u001b[38;5;241m.\u001b[39mresolution)\n\u001b[1;32m--> 619\u001b[0m \u001b[38;5;28;43mself\u001b[39;49m\u001b[38;5;241;43m.\u001b[39;49m\u001b[43mscene\u001b[49m\u001b[38;5;241;43m.\u001b[39;49m\u001b[43mcamera_transform\u001b[49m\u001b[43m[\u001b[49m\u001b[38;5;241;43m.\u001b[39;49m\u001b[38;5;241;43m.\u001b[39;49m\u001b[38;5;241;43m.\u001b[39;49m\u001b[43m]\u001b[49m \u001b[38;5;241m=\u001b[39m \u001b[38;5;28mself\u001b[39m\u001b[38;5;241m.\u001b[39mview[\u001b[38;5;124m'\u001b[39m\u001b[38;5;124mball\u001b[39m\u001b[38;5;124m'\u001b[39m]\u001b[38;5;241m.\u001b[39mpose\n",
      "\u001b[1;31mValueError\u001b[0m: assignment destination is read-only"
     ]
    }
   ],
   "source": [
    "get_mesh_scene(mesh, boundary, editable_verts).show(viewer='gl',smooth=False) "
   ]
  },
  {
   "cell_type": "markdown",
   "metadata": {},
   "source": [
    "## Laplacian"
   ]
  },
  {
   "cell_type": "code",
   "execution_count": null,
   "metadata": {},
   "outputs": [],
   "source": [
    "subgraph = g.subgraph(boundary + editable_verts)\n",
    "\n",
    "g2l = {}\n",
    "for n in subgraph.nodes:\n",
    "    g2l[n] = len(g2l)\n",
    "l2g = list(subgraph.nodes)\n",
    "\n",
    "def get_local_neighbor(subgraph, n, l2g, g2l):\n",
    "    nb = []\n",
    "    for i in subgraph.neighbors(l2g[n]):\n",
    "        nb.append(g2l[i])\n",
    "    return nb"
   ]
  },
  {
   "cell_type": "code",
   "execution_count": null,
   "metadata": {},
   "outputs": [],
   "source": [
    "L = rw_laplacian_matrix(subgraph).todense()\n",
    "V = np.matrix([subgraph.nodes[i]['pos'] for i in subgraph.nodes])\n",
    "Delta = L.dot(V)"
   ]
  },
  {
   "cell_type": "code",
   "execution_count": null,
   "metadata": {},
   "outputs": [],
   "source": [
    "# The linear system\n",
    "n = L.shape[0]\n",
    "LS = np.zeros([3*n, 3*n])"
   ]
  },
  {
   "cell_type": "code",
   "execution_count": null,
   "metadata": {},
   "outputs": [],
   "source": [
    "LS[0*n:1*n, 0*n:1*n] = (-1) * L\n",
    "LS[1*n:2*n, 1*n:2*n] = (-1) * L\n",
    "LS[2*n:3*n, 2*n:3*n] = (-1) * L"
   ]
  },
  {
   "cell_type": "code",
   "execution_count": null,
   "metadata": {},
   "outputs": [],
   "source": [
    "for i in range(n):\n",
    "    nb_idx = get_local_neighbor(subgraph, i, l2g, g2l)\n",
    "    ring = np.array([i] + nb_idx)\n",
    "    V_ring = V[ring]\n",
    "    n_ring = V_ring.shape[0]\n",
    "    V_ring = np.hstack([V_ring, np.ones([n_ring, 1])])  # Append extra 1s for affinity transform T\n",
    "    \n",
    "    A = np.zeros([n_ring * 3, 7])\n",
    "    for j in range(n_ring):\n",
    "        A[j]          = [V_ring[j,0],           0 ,   V_ring[j,2], -V_ring[j,1], 1, 0, 0]\n",
    "        A[j+n_ring]   = [V_ring[j,1], -V_ring[j,2],            0 ,  V_ring[j,0], 0, 1, 0]\n",
    "        A[j+2*n_ring] = [V_ring[j,2],  V_ring[j,1], -V_ring[j, 0],           0 , 0, 0, 1]\n",
    "        \n",
    "    # Moore-Penrose Inversion\n",
    "    A_pinv = np.linalg.pinv(A)\n",
    "    s = A_pinv[0]\n",
    "    h = A_pinv[1:4]\n",
    "    t = A_pinv[4:7]\n",
    "    \n",
    "\n",
    "    T_delta = np.vstack([\n",
    "         Delta[i,0]*s    - Delta[i,1]*h[2] + Delta[i,2]*h[1],\n",
    "         Delta[i,0]*h[2] + Delta[i,1]*s    - Delta[i,2]*h[0],\n",
    "        -Delta[i,0]*h[1] + Delta[i,1]*h[0] + Delta[i,2]*s   ,\n",
    "    ])\n",
    "        \n",
    "    LS[i, np.hstack([ring, ring+n, ring+2*n])] += T_delta[0]\n",
    "    LS[i+n, np.hstack([ring, ring+n, ring+2*n])] += T_delta[1]\n",
    "    LS[i+2*n, np.hstack([ring, ring+n, ring+2*n])] += T_delta[2]\n",
    "        \n"
   ]
  },
  {
   "cell_type": "code",
   "execution_count": null,
   "metadata": {},
   "outputs": [],
   "source": [
    "constraint_coef = []\n",
    "constraint_b = []\n",
    "\n",
    "# Boundary constraints\n",
    "boundary_idx = [g2l[i] for i in boundary_ctrl_points]\n",
    "for idx in boundary_idx:\n",
    "    constraint_coef.append(np.arange(3*n) == idx)\n",
    "    constraint_coef.append(np.arange(3*n) == idx + n)\n",
    "    constraint_coef.append(np.arange(3*n) == idx + 2*n)\n",
    "    constraint_b.append(V[idx, 0])\n",
    "    constraint_b.append(V[idx, 1])\n",
    "    constraint_b.append(V[idx, 2])\n",
    "    \n",
    "# Handle constraints\n",
    "for gid, pos in handles.items():\n",
    "    idx = g2l[gid]\n",
    "    constraint_coef.append(np.arange(3*n) == idx)\n",
    "    constraint_coef.append(np.arange(3*n) == idx + n)\n",
    "    constraint_coef.append(np.arange(3*n) == idx + 2*n)\n",
    "    constraint_b.append(pos[0])\n",
    "    constraint_b.append(pos[1])\n",
    "    constraint_b.append(pos[2])\n",
    "    \n",
    "constraint_coef = np.matrix(constraint_coef)\n",
    "constraint_b = np.array(constraint_b)"
   ]
  },
  {
   "cell_type": "code",
   "execution_count": null,
   "metadata": {},
   "outputs": [],
   "source": [
    "A = np.vstack([LS, constraint_coef])\n",
    "b = np.hstack([np.zeros(3*n), constraint_b])"
   ]
  },
  {
   "cell_type": "code",
   "execution_count": null,
   "metadata": {},
   "outputs": [],
   "source": [
    "spA = scipy.sparse.coo_matrix(A)"
   ]
  },
  {
   "cell_type": "code",
   "execution_count": null,
   "metadata": {},
   "outputs": [],
   "source": [
    "V_prime = scipy.sparse.linalg.lsqr(spA, b)"
   ]
  },
  {
   "cell_type": "code",
   "execution_count": null,
   "metadata": {},
   "outputs": [],
   "source": [
    "new_pnts = []\n",
    "for i in range(n):\n",
    "    new_pnts.append([V_prime[0][i], V_prime[0][i+n], V_prime[0][i+2*n]])\n",
    "    \n",
    "new_mesh = mesh.copy()\n",
    "for idx, pnt in enumerate(new_pnts):\n",
    "    gid = l2g[idx]\n",
    "    new_mesh.vertices[gid] = pnt"
   ]
  },
  {
   "cell_type": "code",
   "execution_count": null,
   "metadata": {},
   "outputs": [],
   "source": [
    "scene = [mesh, trimesh.points.PointCloud(np.matrix(new_pnts))]\n",
    "trimesh.Scene(scene).show(viewer='gl',smooth=False)"
   ]
  },
  {
   "cell_type": "code",
   "execution_count": null,
   "metadata": {},
   "outputs": [],
   "source": [
    "with open('render.png', 'wb') as f:\n",
    "    f.write(trimesh.Scene(scene).save_image(resolution=[2000, 2000], visible=True))"
   ]
  },
  {
   "cell_type": "code",
   "execution_count": null,
   "metadata": {},
   "outputs": [],
   "source": [
    "new_mesh = mesh.copy()\n",
    "for idx, pnt in enumerate(new_pnts):\n",
    "    gid = l2g[idx]\n",
    "    new_mesh.vertices[gid] = pnt"
   ]
  },
  {
   "cell_type": "code",
   "execution_count": null,
   "metadata": {},
   "outputs": [],
   "source": [
    "scene = [mesh,new_mesh]\n",
    "trimesh.Scene(scene).show(viewer='gl',smooth=False)"
   ]
  },
  {
   "cell_type": "code",
   "execution_count": null,
   "metadata": {},
   "outputs": [],
   "source": [
    "list(handles.keys())[0]"
   ]
  },
  {
   "cell_type": "code",
   "execution_count": null,
   "metadata": {},
   "outputs": [],
   "source": []
  }
 ],
 "metadata": {
  "kernelspec": {
   "display_name": "Python 3 (ipykernel)",
   "language": "python",
   "name": "python3"
  },
  "language_info": {
   "codemirror_mode": {
    "name": "ipython",
    "version": 3
   },
   "file_extension": ".py",
   "mimetype": "text/x-python",
   "name": "python",
   "nbconvert_exporter": "python",
   "pygments_lexer": "ipython3",
   "version": "3.8.0"
  }
 },
 "nbformat": 4,
 "nbformat_minor": 4
}
